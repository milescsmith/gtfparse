{
 "cells": [
  {
   "cell_type": "code",
   "execution_count": 1,
   "metadata": {},
   "outputs": [
    {
     "name": "stderr",
     "output_type": "stream",
     "text": [
      "INFO:MainThread:matplotlib.font_manager:Generating new fontManager, this may take some time...\n",
      "INFO:MainThread:matplotlib.font_manager:Failed to extract font properties from /System/Library/Fonts/Supplemental/NISC18030.ttf: In FT2Font: Could not set the fontsize (error code 0x17)\n",
      "INFO:MainThread:matplotlib.font_manager:Failed to extract font properties from /System/Library/Fonts/Apple Color Emoji.ttc: In FT2Font: Could not set the fontsize (error code 0x17)\n",
      "INFO:MainThread:matplotlib.font_manager:Failed to extract font properties from /System/Library/Fonts/LastResort.otf: tuple indices must be integers or slices, not str\n"
     ]
    }
   ],
   "source": [
    "import numpy as np\n",
    "import pandas as pd\n",
    "import vaex as vx"
   ]
  },
  {
   "cell_type": "code",
   "execution_count": 12,
   "metadata": {},
   "outputs": [],
   "source": [
    "filepath_or_buffer = \"/Users/milessmith/Downloads/Homo_sapiens.GRCh38.101.gtf.gz\"\n",
    "chunksize = 1024 * 1024"
   ]
  },
  {
   "cell_type": "code",
   "execution_count": 13,
   "metadata": {},
   "outputs": [
    {
     "name": "stderr",
     "output_type": "stream",
     "text": [
      "<string>:2: DtypeWarning: Columns (0) have mixed types.Specify dtype option on import or set low_memory=False.\n"
     ]
    },
    {
     "name": "stdout",
     "output_type": "stream",
     "text": [
      "could not convert column strand, error: ValueError('functions not yet implemented'), will try to convert it to string\n"
     ]
    }
   ],
   "source": [
    "chunk_iterator = vx.from_csv(\n",
    "        filepath_or_buffer,\n",
    "        sep=\"\\t\",\n",
    "        comment=\"#\",\n",
    "        names=[\n",
    "            \"seqname\",\n",
    "            \"source\",\n",
    "            \"feature\",\n",
    "            \"start\",\n",
    "            \"end\",\n",
    "            \"score\",\n",
    "            \"strand\",\n",
    "            \"frame\",\n",
    "            \"attribute\",\n",
    "        ],\n",
    "        dtype={\"score\": np.float32, \"attribue\": str, \"strand\": \"category\"},\n",
    "        skipinitialspace=True,\n",
    "        skip_blank_lines=True,\n",
    "        error_bad_lines=True,\n",
    "        warn_bad_lines=True,\n",
    "        na_values=\".\",\n",
    "    )"
   ]
  },
  {
   "cell_type": "code",
   "execution_count": 14,
   "metadata": {},
   "outputs": [
    {
     "data": {
      "text/html": [
       "<table>\n",
       "<thead>\n",
       "<tr><th>#                                    </th><th>seqname   </th><th>source  </th><th>feature    </th><th>start  </th><th>end  </th><th>score  </th><th>strand  </th><th>frame  </th><th>attribute                                          </th></tr>\n",
       "</thead>\n",
       "<tbody>\n",
       "<tr><td><i style='opacity: 0.6'>0</i>        </td><td>1         </td><td>havana  </td><td>gene       </td><td>11869  </td><td>14409</td><td>nan    </td><td>b&#x27;+&#x27;    </td><td>nan    </td><td>&#x27;gene_id &quot;ENSG00000223972&quot;; gene_version &quot;5&quot;; ge...</td></tr>\n",
       "<tr><td><i style='opacity: 0.6'>1</i>        </td><td>1         </td><td>havana  </td><td>transcript </td><td>11869  </td><td>14409</td><td>nan    </td><td>b&#x27;+&#x27;    </td><td>nan    </td><td>&#x27;gene_id &quot;ENSG00000223972&quot;; gene_version &quot;5&quot;; tr...</td></tr>\n",
       "<tr><td><i style='opacity: 0.6'>2</i>        </td><td>1         </td><td>havana  </td><td>exon       </td><td>11869  </td><td>12227</td><td>nan    </td><td>b&#x27;+&#x27;    </td><td>nan    </td><td>&#x27;gene_id &quot;ENSG00000223972&quot;; gene_version &quot;5&quot;; tr...</td></tr>\n",
       "<tr><td><i style='opacity: 0.6'>3</i>        </td><td>1         </td><td>havana  </td><td>exon       </td><td>12613  </td><td>12721</td><td>nan    </td><td>b&#x27;+&#x27;    </td><td>nan    </td><td>&#x27;gene_id &quot;ENSG00000223972&quot;; gene_version &quot;5&quot;; tr...</td></tr>\n",
       "<tr><td><i style='opacity: 0.6'>4</i>        </td><td>1         </td><td>havana  </td><td>exon       </td><td>13221  </td><td>14409</td><td>nan    </td><td>b&#x27;+&#x27;    </td><td>nan    </td><td>&#x27;gene_id &quot;ENSG00000223972&quot;; gene_version &quot;5&quot;; tr...</td></tr>\n",
       "<tr><td>...                                  </td><td>...       </td><td>...     </td><td>...        </td><td>...    </td><td>...  </td><td>...    </td><td>...     </td><td>...    </td><td>...                                                </td></tr>\n",
       "<tr><td><i style='opacity: 0.6'>2,947,456</i></td><td>KI270713.1</td><td>ensembl </td><td>transcript </td><td>35407  </td><td>35916</td><td>nan    </td><td>b&#x27;+&#x27;    </td><td>nan    </td><td>&#x27;gene_id &quot;ENSG00000268674&quot;; gene_version &quot;2&quot;; tr...</td></tr>\n",
       "<tr><td><i style='opacity: 0.6'>2,947,457</i></td><td>KI270713.1</td><td>ensembl </td><td>exon       </td><td>35407  </td><td>35916</td><td>nan    </td><td>b&#x27;+&#x27;    </td><td>nan    </td><td>&#x27;gene_id &quot;ENSG00000268674&quot;; gene_version &quot;2&quot;; tr...</td></tr>\n",
       "<tr><td><i style='opacity: 0.6'>2,947,458</i></td><td>KI270713.1</td><td>ensembl </td><td>CDS        </td><td>35407  </td><td>35913</td><td>nan    </td><td>b&#x27;+&#x27;    </td><td>0.0    </td><td>&#x27;gene_id &quot;ENSG00000268674&quot;; gene_version &quot;2&quot;; tr...</td></tr>\n",
       "<tr><td><i style='opacity: 0.6'>2,947,459</i></td><td>KI270713.1</td><td>ensembl </td><td>start_codon</td><td>35407  </td><td>35409</td><td>nan    </td><td>b&#x27;+&#x27;    </td><td>0.0    </td><td>&#x27;gene_id &quot;ENSG00000268674&quot;; gene_version &quot;2&quot;; tr...</td></tr>\n",
       "<tr><td><i style='opacity: 0.6'>2,947,460</i></td><td>KI270713.1</td><td>ensembl </td><td>stop_codon </td><td>35914  </td><td>35916</td><td>nan    </td><td>b&#x27;+&#x27;    </td><td>0.0    </td><td>&#x27;gene_id &quot;ENSG00000268674&quot;; gene_version &quot;2&quot;; tr...</td></tr>\n",
       "</tbody>\n",
       "</table>"
      ],
      "text/plain": [
       "#          seqname     source    feature      start    end    score    strand    frame    attribute\n",
       "0          1           havana    gene         11869    14409  nan      b'+'      nan      'gene_id \"ENSG00000223972\"; gene_version \"5\"; ge...\n",
       "1          1           havana    transcript   11869    14409  nan      b'+'      nan      'gene_id \"ENSG00000223972\"; gene_version \"5\"; tr...\n",
       "2          1           havana    exon         11869    12227  nan      b'+'      nan      'gene_id \"ENSG00000223972\"; gene_version \"5\"; tr...\n",
       "3          1           havana    exon         12613    12721  nan      b'+'      nan      'gene_id \"ENSG00000223972\"; gene_version \"5\"; tr...\n",
       "4          1           havana    exon         13221    14409  nan      b'+'      nan      'gene_id \"ENSG00000223972\"; gene_version \"5\"; tr...\n",
       "...        ...         ...       ...          ...      ...    ...      ...       ...      ...\n",
       "2,947,456  KI270713.1  ensembl   transcript   35407    35916  nan      b'+'      nan      'gene_id \"ENSG00000268674\"; gene_version \"2\"; tr...\n",
       "2,947,457  KI270713.1  ensembl   exon         35407    35916  nan      b'+'      nan      'gene_id \"ENSG00000268674\"; gene_version \"2\"; tr...\n",
       "2,947,458  KI270713.1  ensembl   CDS          35407    35913  nan      b'+'      0.0      'gene_id \"ENSG00000268674\"; gene_version \"2\"; tr...\n",
       "2,947,459  KI270713.1  ensembl   start_codon  35407    35409  nan      b'+'      0.0      'gene_id \"ENSG00000268674\"; gene_version \"2\"; tr...\n",
       "2,947,460  KI270713.1  ensembl   stop_codon   35914    35916  nan      b'+'      0.0      'gene_id \"ENSG00000268674\"; gene_version \"2\"; tr..."
      ]
     },
     "execution_count": 14,
     "metadata": {},
     "output_type": "execute_result"
    }
   ],
   "source": [
    "chunk_iterator"
   ]
  },
  {
   "cell_type": "code",
   "execution_count": 18,
   "metadata": {},
   "outputs": [
    {
     "ename": "AttributeError",
     "evalue": "'list' object has no attribute '_head_and_tail_table'",
     "output_type": "error",
     "traceback": [
      "\u001b[0;31m---------------------------------------------------------------------------\u001b[0m\n\u001b[0;31mAttributeError\u001b[0m                            Traceback (most recent call last)",
      "In  \u001b[0;34m[18]\u001b[0m:\nLine \u001b[0;34m1\u001b[0m:     \u001b[36mtype\u001b[39;49;00m(chunk_iterator)\n",
      "File \u001b[0;34m/Users/milessmith/miniconda3/envs/gtfparse/lib/python3.8/site-packages/vaex/dataframe.py\u001b[0m, in \u001b[0;32m_repr_mimebundle_\u001b[0m:\nLine \u001b[0;34m3691\u001b[0m:  \u001b[34mreturn\u001b[39;49;00m {\u001b[33m'\u001b[39;49;00m\u001b[33mtext/html\u001b[39;49;00m\u001b[33m'\u001b[39;49;00m:\u001b[36mself\u001b[39;49;00m._head_and_tail_table(\u001b[36mformat\u001b[39;49;00m=\u001b[33m'\u001b[39;49;00m\u001b[33mhtml\u001b[39;49;00m\u001b[33m'\u001b[39;49;00m), \u001b[33m'\u001b[39;49;00m\u001b[33mtext/plain\u001b[39;49;00m\u001b[33m'\u001b[39;49;00m: \u001b[36mself\u001b[39;49;00m._head_and_tail_table(\u001b[36mformat\u001b[39;49;00m=\u001b[33m'\u001b[39;49;00m\u001b[33mplain\u001b[39;49;00m\u001b[33m'\u001b[39;49;00m)}\n",
      "\u001b[0;31mAttributeError\u001b[0m: 'list' object has no attribute '_head_and_tail_table'\n\u001b[0;31m---------------------------------------------------------------------------\u001b[0m"
     ]
    }
   ],
   "source": [
    "type(chunk_iterator)"
   ]
  }
 ],
 "metadata": {
  "kernelspec": {
   "display_name": "Python 3.8 (XPython)",
   "language": "python",
   "name": "xpython"
  },
  "language_info": {
   "file_extension": ".py",
   "mimetype": "text/x-python",
   "name": "python",
   "version": "3.8.5"
  }
 },
 "nbformat": 4,
 "nbformat_minor": 4
}
